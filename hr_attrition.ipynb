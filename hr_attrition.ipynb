{
 "cells": [
  {
   "cell_type": "markdown",
   "id": "7c493988-c757-4674-ad08-f5a295aab464",
   "metadata": {},
   "source": [
    "# Project Overview\n",
    "\n",
    "## This project analyzes employee attrition data to uncover insights about:\n",
    "\n",
    " - Attrition trends and patterns\n",
    "\n",
    " - Demographic factors influencing attrition\n",
    "\n",
    " - Job role and department performance\n",
    "\n",
    " - Salary and satisfaction levels\n",
    "\n",
    " - Work-life balance and career development\n",
    "\n",
    "## Dataset\n",
    "\n",
    " - Source: IBM HR Analytics Employee Attrition Dataset\n",
    "\n",
    " - Sample: 1,470 employee records\n",
    "\n",
    " - Columns: EmployeeNumber, Age, Attrition, BusinessTravel, Department, DistanceFromHome, Education, Gender, JobRole, MaritalStatus, MonthlyIncome, OverTime, and others"
   ]
  },
  {
   "cell_type": "code",
   "execution_count": 1,
   "id": "3bc992c1-4564-450e-a6e0-ae3c1548d653",
   "metadata": {},
   "outputs": [],
   "source": [
    "import pandas as pd\n",
    "import numpy as np\n",
    "import matplotlib.pyplot as plt\n",
    "import pandas as pd\n",
    "pd.set_option(\"future.no_silent_downcasting\", True)"
   ]
  },
  {
   "cell_type": "code",
   "execution_count": 2,
   "id": "4d747af4-5b75-47b1-bc76-ce866791ec68",
   "metadata": {},
   "outputs": [],
   "source": [
    "hr_data = pd.read_csv(\"hr_attrition_dataset.csv\")"
   ]
  },
  {
   "cell_type": "code",
   "execution_count": 3,
   "id": "d4bd9afa-4baa-4ee9-84d8-0ae83e98e5e5",
   "metadata": {},
   "outputs": [
    {
     "data": {
      "text/html": [
       "<div>\n",
       "<style scoped>\n",
       "    .dataframe tbody tr th:only-of-type {\n",
       "        vertical-align: middle;\n",
       "    }\n",
       "\n",
       "    .dataframe tbody tr th {\n",
       "        vertical-align: top;\n",
       "    }\n",
       "\n",
       "    .dataframe thead th {\n",
       "        text-align: right;\n",
       "    }\n",
       "</style>\n",
       "<table border=\"1\" class=\"dataframe\">\n",
       "  <thead>\n",
       "    <tr style=\"text-align: right;\">\n",
       "      <th></th>\n",
       "      <th>Age</th>\n",
       "      <th>Attrition</th>\n",
       "      <th>BusinessTravel</th>\n",
       "      <th>DailyRate</th>\n",
       "      <th>Department</th>\n",
       "      <th>DistanceFromHome</th>\n",
       "      <th>Education</th>\n",
       "      <th>EducationField</th>\n",
       "      <th>EmployeeCount</th>\n",
       "      <th>EmployeeNumber</th>\n",
       "      <th>...</th>\n",
       "      <th>RelationshipSatisfaction</th>\n",
       "      <th>StandardHours</th>\n",
       "      <th>StockOptionLevel</th>\n",
       "      <th>TotalWorkingYears</th>\n",
       "      <th>TrainingTimesLastYear</th>\n",
       "      <th>WorkLifeBalance</th>\n",
       "      <th>YearsAtCompany</th>\n",
       "      <th>YearsInCurrentRole</th>\n",
       "      <th>YearsSinceLastPromotion</th>\n",
       "      <th>YearsWithCurrManager</th>\n",
       "    </tr>\n",
       "  </thead>\n",
       "  <tbody>\n",
       "    <tr>\n",
       "      <th>0</th>\n",
       "      <td>41</td>\n",
       "      <td>Yes</td>\n",
       "      <td>Travel_Rarely</td>\n",
       "      <td>1102</td>\n",
       "      <td>Sales</td>\n",
       "      <td>1</td>\n",
       "      <td>2</td>\n",
       "      <td>Life Sciences</td>\n",
       "      <td>1</td>\n",
       "      <td>1</td>\n",
       "      <td>...</td>\n",
       "      <td>1</td>\n",
       "      <td>80</td>\n",
       "      <td>0</td>\n",
       "      <td>8</td>\n",
       "      <td>0</td>\n",
       "      <td>1</td>\n",
       "      <td>6</td>\n",
       "      <td>4</td>\n",
       "      <td>0</td>\n",
       "      <td>5</td>\n",
       "    </tr>\n",
       "    <tr>\n",
       "      <th>1</th>\n",
       "      <td>49</td>\n",
       "      <td>No</td>\n",
       "      <td>Travel_Frequently</td>\n",
       "      <td>279</td>\n",
       "      <td>Research &amp; Development</td>\n",
       "      <td>8</td>\n",
       "      <td>1</td>\n",
       "      <td>Life Sciences</td>\n",
       "      <td>1</td>\n",
       "      <td>2</td>\n",
       "      <td>...</td>\n",
       "      <td>4</td>\n",
       "      <td>80</td>\n",
       "      <td>1</td>\n",
       "      <td>10</td>\n",
       "      <td>3</td>\n",
       "      <td>3</td>\n",
       "      <td>10</td>\n",
       "      <td>7</td>\n",
       "      <td>1</td>\n",
       "      <td>7</td>\n",
       "    </tr>\n",
       "    <tr>\n",
       "      <th>2</th>\n",
       "      <td>37</td>\n",
       "      <td>Yes</td>\n",
       "      <td>Travel_Rarely</td>\n",
       "      <td>1373</td>\n",
       "      <td>Research &amp; Development</td>\n",
       "      <td>2</td>\n",
       "      <td>2</td>\n",
       "      <td>Other</td>\n",
       "      <td>1</td>\n",
       "      <td>4</td>\n",
       "      <td>...</td>\n",
       "      <td>2</td>\n",
       "      <td>80</td>\n",
       "      <td>0</td>\n",
       "      <td>7</td>\n",
       "      <td>3</td>\n",
       "      <td>3</td>\n",
       "      <td>0</td>\n",
       "      <td>0</td>\n",
       "      <td>0</td>\n",
       "      <td>0</td>\n",
       "    </tr>\n",
       "    <tr>\n",
       "      <th>3</th>\n",
       "      <td>33</td>\n",
       "      <td>No</td>\n",
       "      <td>Travel_Frequently</td>\n",
       "      <td>1392</td>\n",
       "      <td>Research &amp; Development</td>\n",
       "      <td>3</td>\n",
       "      <td>4</td>\n",
       "      <td>Life Sciences</td>\n",
       "      <td>1</td>\n",
       "      <td>5</td>\n",
       "      <td>...</td>\n",
       "      <td>3</td>\n",
       "      <td>80</td>\n",
       "      <td>0</td>\n",
       "      <td>8</td>\n",
       "      <td>3</td>\n",
       "      <td>3</td>\n",
       "      <td>8</td>\n",
       "      <td>7</td>\n",
       "      <td>3</td>\n",
       "      <td>0</td>\n",
       "    </tr>\n",
       "    <tr>\n",
       "      <th>4</th>\n",
       "      <td>27</td>\n",
       "      <td>No</td>\n",
       "      <td>Travel_Rarely</td>\n",
       "      <td>591</td>\n",
       "      <td>Research &amp; Development</td>\n",
       "      <td>2</td>\n",
       "      <td>1</td>\n",
       "      <td>Medical</td>\n",
       "      <td>1</td>\n",
       "      <td>7</td>\n",
       "      <td>...</td>\n",
       "      <td>4</td>\n",
       "      <td>80</td>\n",
       "      <td>1</td>\n",
       "      <td>6</td>\n",
       "      <td>3</td>\n",
       "      <td>3</td>\n",
       "      <td>2</td>\n",
       "      <td>2</td>\n",
       "      <td>2</td>\n",
       "      <td>2</td>\n",
       "    </tr>\n",
       "  </tbody>\n",
       "</table>\n",
       "<p>5 rows × 35 columns</p>\n",
       "</div>"
      ],
      "text/plain": [
       "   Age Attrition     BusinessTravel  DailyRate              Department  \\\n",
       "0   41       Yes      Travel_Rarely       1102                   Sales   \n",
       "1   49        No  Travel_Frequently        279  Research & Development   \n",
       "2   37       Yes      Travel_Rarely       1373  Research & Development   \n",
       "3   33        No  Travel_Frequently       1392  Research & Development   \n",
       "4   27        No      Travel_Rarely        591  Research & Development   \n",
       "\n",
       "   DistanceFromHome  Education EducationField  EmployeeCount  EmployeeNumber  \\\n",
       "0                 1          2  Life Sciences              1               1   \n",
       "1                 8          1  Life Sciences              1               2   \n",
       "2                 2          2          Other              1               4   \n",
       "3                 3          4  Life Sciences              1               5   \n",
       "4                 2          1        Medical              1               7   \n",
       "\n",
       "   ...  RelationshipSatisfaction StandardHours  StockOptionLevel  \\\n",
       "0  ...                         1            80                 0   \n",
       "1  ...                         4            80                 1   \n",
       "2  ...                         2            80                 0   \n",
       "3  ...                         3            80                 0   \n",
       "4  ...                         4            80                 1   \n",
       "\n",
       "   TotalWorkingYears  TrainingTimesLastYear WorkLifeBalance  YearsAtCompany  \\\n",
       "0                  8                      0               1               6   \n",
       "1                 10                      3               3              10   \n",
       "2                  7                      3               3               0   \n",
       "3                  8                      3               3               8   \n",
       "4                  6                      3               3               2   \n",
       "\n",
       "  YearsInCurrentRole  YearsSinceLastPromotion  YearsWithCurrManager  \n",
       "0                  4                        0                     5  \n",
       "1                  7                        1                     7  \n",
       "2                  0                        0                     0  \n",
       "3                  7                        3                     0  \n",
       "4                  2                        2                     2  \n",
       "\n",
       "[5 rows x 35 columns]"
      ]
     },
     "execution_count": 3,
     "metadata": {},
     "output_type": "execute_result"
    }
   ],
   "source": [
    "hr_data.head(5)"
   ]
  },
  {
   "cell_type": "code",
   "execution_count": 4,
   "id": "52319ca3-fdd9-4f73-82d5-ea85e4ef0759",
   "metadata": {},
   "outputs": [
    {
     "data": {
      "text/plain": [
       "(1470, 35)"
      ]
     },
     "execution_count": 4,
     "metadata": {},
     "output_type": "execute_result"
    }
   ],
   "source": [
    "hr_data.shape"
   ]
  },
  {
   "cell_type": "code",
   "execution_count": 5,
   "id": "4d0f938d-134e-44ac-992b-cb218906912f",
   "metadata": {},
   "outputs": [
    {
     "data": {
      "text/plain": [
       "Age                          int64\n",
       "Attrition                   object\n",
       "BusinessTravel              object\n",
       "DailyRate                    int64\n",
       "Department                  object\n",
       "DistanceFromHome             int64\n",
       "Education                    int64\n",
       "EducationField              object\n",
       "EmployeeCount                int64\n",
       "EmployeeNumber               int64\n",
       "EnvironmentSatisfaction      int64\n",
       "Gender                      object\n",
       "HourlyRate                   int64\n",
       "JobInvolvement               int64\n",
       "JobLevel                     int64\n",
       "JobRole                     object\n",
       "JobSatisfaction              int64\n",
       "MaritalStatus               object\n",
       "MonthlyIncome                int64\n",
       "MonthlyRate                  int64\n",
       "NumCompaniesWorked           int64\n",
       "Over18                      object\n",
       "OverTime                    object\n",
       "PercentSalaryHike            int64\n",
       "PerformanceRating            int64\n",
       "RelationshipSatisfaction     int64\n",
       "StandardHours                int64\n",
       "StockOptionLevel             int64\n",
       "TotalWorkingYears            int64\n",
       "TrainingTimesLastYear        int64\n",
       "WorkLifeBalance              int64\n",
       "YearsAtCompany               int64\n",
       "YearsInCurrentRole           int64\n",
       "YearsSinceLastPromotion      int64\n",
       "YearsWithCurrManager         int64\n",
       "dtype: object"
      ]
     },
     "execution_count": 5,
     "metadata": {},
     "output_type": "execute_result"
    }
   ],
   "source": [
    "hr_data.dtypes"
   ]
  },
  {
   "cell_type": "code",
   "execution_count": 6,
   "id": "8ef24c5f-733c-496b-a78e-1799caf014d2",
   "metadata": {},
   "outputs": [
    {
     "name": "stdout",
     "output_type": "stream",
     "text": [
      "<class 'pandas.core.frame.DataFrame'>\n",
      "RangeIndex: 1470 entries, 0 to 1469\n",
      "Data columns (total 35 columns):\n",
      " #   Column                    Non-Null Count  Dtype \n",
      "---  ------                    --------------  ----- \n",
      " 0   Age                       1470 non-null   int64 \n",
      " 1   Attrition                 1470 non-null   object\n",
      " 2   BusinessTravel            1470 non-null   object\n",
      " 3   DailyRate                 1470 non-null   int64 \n",
      " 4   Department                1470 non-null   object\n",
      " 5   DistanceFromHome          1470 non-null   int64 \n",
      " 6   Education                 1470 non-null   int64 \n",
      " 7   EducationField            1470 non-null   object\n",
      " 8   EmployeeCount             1470 non-null   int64 \n",
      " 9   EmployeeNumber            1470 non-null   int64 \n",
      " 10  EnvironmentSatisfaction   1470 non-null   int64 \n",
      " 11  Gender                    1470 non-null   object\n",
      " 12  HourlyRate                1470 non-null   int64 \n",
      " 13  JobInvolvement            1470 non-null   int64 \n",
      " 14  JobLevel                  1470 non-null   int64 \n",
      " 15  JobRole                   1470 non-null   object\n",
      " 16  JobSatisfaction           1470 non-null   int64 \n",
      " 17  MaritalStatus             1470 non-null   object\n",
      " 18  MonthlyIncome             1470 non-null   int64 \n",
      " 19  MonthlyRate               1470 non-null   int64 \n",
      " 20  NumCompaniesWorked        1470 non-null   int64 \n",
      " 21  Over18                    1470 non-null   object\n",
      " 22  OverTime                  1470 non-null   object\n",
      " 23  PercentSalaryHike         1470 non-null   int64 \n",
      " 24  PerformanceRating         1470 non-null   int64 \n",
      " 25  RelationshipSatisfaction  1470 non-null   int64 \n",
      " 26  StandardHours             1470 non-null   int64 \n",
      " 27  StockOptionLevel          1470 non-null   int64 \n",
      " 28  TotalWorkingYears         1470 non-null   int64 \n",
      " 29  TrainingTimesLastYear     1470 non-null   int64 \n",
      " 30  WorkLifeBalance           1470 non-null   int64 \n",
      " 31  YearsAtCompany            1470 non-null   int64 \n",
      " 32  YearsInCurrentRole        1470 non-null   int64 \n",
      " 33  YearsSinceLastPromotion   1470 non-null   int64 \n",
      " 34  YearsWithCurrManager      1470 non-null   int64 \n",
      "dtypes: int64(26), object(9)\n",
      "memory usage: 402.1+ KB\n"
     ]
    }
   ],
   "source": [
    "hr_data.info()"
   ]
  },
  {
   "cell_type": "code",
   "execution_count": 7,
   "id": "f9a4abd5-6781-4654-97f5-3d85f3d9ac87",
   "metadata": {},
   "outputs": [
    {
     "data": {
      "text/html": [
       "<div>\n",
       "<style scoped>\n",
       "    .dataframe tbody tr th:only-of-type {\n",
       "        vertical-align: middle;\n",
       "    }\n",
       "\n",
       "    .dataframe tbody tr th {\n",
       "        vertical-align: top;\n",
       "    }\n",
       "\n",
       "    .dataframe thead th {\n",
       "        text-align: right;\n",
       "    }\n",
       "</style>\n",
       "<table border=\"1\" class=\"dataframe\">\n",
       "  <thead>\n",
       "    <tr style=\"text-align: right;\">\n",
       "      <th></th>\n",
       "      <th>Age</th>\n",
       "      <th>DailyRate</th>\n",
       "      <th>DistanceFromHome</th>\n",
       "      <th>Education</th>\n",
       "      <th>EmployeeCount</th>\n",
       "      <th>EmployeeNumber</th>\n",
       "      <th>EnvironmentSatisfaction</th>\n",
       "      <th>HourlyRate</th>\n",
       "      <th>JobInvolvement</th>\n",
       "      <th>JobLevel</th>\n",
       "      <th>...</th>\n",
       "      <th>RelationshipSatisfaction</th>\n",
       "      <th>StandardHours</th>\n",
       "      <th>StockOptionLevel</th>\n",
       "      <th>TotalWorkingYears</th>\n",
       "      <th>TrainingTimesLastYear</th>\n",
       "      <th>WorkLifeBalance</th>\n",
       "      <th>YearsAtCompany</th>\n",
       "      <th>YearsInCurrentRole</th>\n",
       "      <th>YearsSinceLastPromotion</th>\n",
       "      <th>YearsWithCurrManager</th>\n",
       "    </tr>\n",
       "  </thead>\n",
       "  <tbody>\n",
       "    <tr>\n",
       "      <th>count</th>\n",
       "      <td>1470.000000</td>\n",
       "      <td>1470.000000</td>\n",
       "      <td>1470.000000</td>\n",
       "      <td>1470.000000</td>\n",
       "      <td>1470.0</td>\n",
       "      <td>1470.000000</td>\n",
       "      <td>1470.000000</td>\n",
       "      <td>1470.000000</td>\n",
       "      <td>1470.000000</td>\n",
       "      <td>1470.000000</td>\n",
       "      <td>...</td>\n",
       "      <td>1470.000000</td>\n",
       "      <td>1470.0</td>\n",
       "      <td>1470.000000</td>\n",
       "      <td>1470.000000</td>\n",
       "      <td>1470.000000</td>\n",
       "      <td>1470.000000</td>\n",
       "      <td>1470.000000</td>\n",
       "      <td>1470.000000</td>\n",
       "      <td>1470.000000</td>\n",
       "      <td>1470.000000</td>\n",
       "    </tr>\n",
       "    <tr>\n",
       "      <th>mean</th>\n",
       "      <td>36.923810</td>\n",
       "      <td>802.485714</td>\n",
       "      <td>9.192517</td>\n",
       "      <td>2.912925</td>\n",
       "      <td>1.0</td>\n",
       "      <td>1024.865306</td>\n",
       "      <td>2.721769</td>\n",
       "      <td>65.891156</td>\n",
       "      <td>2.729932</td>\n",
       "      <td>2.063946</td>\n",
       "      <td>...</td>\n",
       "      <td>2.712245</td>\n",
       "      <td>80.0</td>\n",
       "      <td>0.793878</td>\n",
       "      <td>11.279592</td>\n",
       "      <td>2.799320</td>\n",
       "      <td>2.761224</td>\n",
       "      <td>7.008163</td>\n",
       "      <td>4.229252</td>\n",
       "      <td>2.187755</td>\n",
       "      <td>4.123129</td>\n",
       "    </tr>\n",
       "    <tr>\n",
       "      <th>std</th>\n",
       "      <td>9.135373</td>\n",
       "      <td>403.509100</td>\n",
       "      <td>8.106864</td>\n",
       "      <td>1.024165</td>\n",
       "      <td>0.0</td>\n",
       "      <td>602.024335</td>\n",
       "      <td>1.093082</td>\n",
       "      <td>20.329428</td>\n",
       "      <td>0.711561</td>\n",
       "      <td>1.106940</td>\n",
       "      <td>...</td>\n",
       "      <td>1.081209</td>\n",
       "      <td>0.0</td>\n",
       "      <td>0.852077</td>\n",
       "      <td>7.780782</td>\n",
       "      <td>1.289271</td>\n",
       "      <td>0.706476</td>\n",
       "      <td>6.126525</td>\n",
       "      <td>3.623137</td>\n",
       "      <td>3.222430</td>\n",
       "      <td>3.568136</td>\n",
       "    </tr>\n",
       "    <tr>\n",
       "      <th>min</th>\n",
       "      <td>18.000000</td>\n",
       "      <td>102.000000</td>\n",
       "      <td>1.000000</td>\n",
       "      <td>1.000000</td>\n",
       "      <td>1.0</td>\n",
       "      <td>1.000000</td>\n",
       "      <td>1.000000</td>\n",
       "      <td>30.000000</td>\n",
       "      <td>1.000000</td>\n",
       "      <td>1.000000</td>\n",
       "      <td>...</td>\n",
       "      <td>1.000000</td>\n",
       "      <td>80.0</td>\n",
       "      <td>0.000000</td>\n",
       "      <td>0.000000</td>\n",
       "      <td>0.000000</td>\n",
       "      <td>1.000000</td>\n",
       "      <td>0.000000</td>\n",
       "      <td>0.000000</td>\n",
       "      <td>0.000000</td>\n",
       "      <td>0.000000</td>\n",
       "    </tr>\n",
       "    <tr>\n",
       "      <th>25%</th>\n",
       "      <td>30.000000</td>\n",
       "      <td>465.000000</td>\n",
       "      <td>2.000000</td>\n",
       "      <td>2.000000</td>\n",
       "      <td>1.0</td>\n",
       "      <td>491.250000</td>\n",
       "      <td>2.000000</td>\n",
       "      <td>48.000000</td>\n",
       "      <td>2.000000</td>\n",
       "      <td>1.000000</td>\n",
       "      <td>...</td>\n",
       "      <td>2.000000</td>\n",
       "      <td>80.0</td>\n",
       "      <td>0.000000</td>\n",
       "      <td>6.000000</td>\n",
       "      <td>2.000000</td>\n",
       "      <td>2.000000</td>\n",
       "      <td>3.000000</td>\n",
       "      <td>2.000000</td>\n",
       "      <td>0.000000</td>\n",
       "      <td>2.000000</td>\n",
       "    </tr>\n",
       "    <tr>\n",
       "      <th>50%</th>\n",
       "      <td>36.000000</td>\n",
       "      <td>802.000000</td>\n",
       "      <td>7.000000</td>\n",
       "      <td>3.000000</td>\n",
       "      <td>1.0</td>\n",
       "      <td>1020.500000</td>\n",
       "      <td>3.000000</td>\n",
       "      <td>66.000000</td>\n",
       "      <td>3.000000</td>\n",
       "      <td>2.000000</td>\n",
       "      <td>...</td>\n",
       "      <td>3.000000</td>\n",
       "      <td>80.0</td>\n",
       "      <td>1.000000</td>\n",
       "      <td>10.000000</td>\n",
       "      <td>3.000000</td>\n",
       "      <td>3.000000</td>\n",
       "      <td>5.000000</td>\n",
       "      <td>3.000000</td>\n",
       "      <td>1.000000</td>\n",
       "      <td>3.000000</td>\n",
       "    </tr>\n",
       "    <tr>\n",
       "      <th>75%</th>\n",
       "      <td>43.000000</td>\n",
       "      <td>1157.000000</td>\n",
       "      <td>14.000000</td>\n",
       "      <td>4.000000</td>\n",
       "      <td>1.0</td>\n",
       "      <td>1555.750000</td>\n",
       "      <td>4.000000</td>\n",
       "      <td>83.750000</td>\n",
       "      <td>3.000000</td>\n",
       "      <td>3.000000</td>\n",
       "      <td>...</td>\n",
       "      <td>4.000000</td>\n",
       "      <td>80.0</td>\n",
       "      <td>1.000000</td>\n",
       "      <td>15.000000</td>\n",
       "      <td>3.000000</td>\n",
       "      <td>3.000000</td>\n",
       "      <td>9.000000</td>\n",
       "      <td>7.000000</td>\n",
       "      <td>3.000000</td>\n",
       "      <td>7.000000</td>\n",
       "    </tr>\n",
       "    <tr>\n",
       "      <th>max</th>\n",
       "      <td>60.000000</td>\n",
       "      <td>1499.000000</td>\n",
       "      <td>29.000000</td>\n",
       "      <td>5.000000</td>\n",
       "      <td>1.0</td>\n",
       "      <td>2068.000000</td>\n",
       "      <td>4.000000</td>\n",
       "      <td>100.000000</td>\n",
       "      <td>4.000000</td>\n",
       "      <td>5.000000</td>\n",
       "      <td>...</td>\n",
       "      <td>4.000000</td>\n",
       "      <td>80.0</td>\n",
       "      <td>3.000000</td>\n",
       "      <td>40.000000</td>\n",
       "      <td>6.000000</td>\n",
       "      <td>4.000000</td>\n",
       "      <td>40.000000</td>\n",
       "      <td>18.000000</td>\n",
       "      <td>15.000000</td>\n",
       "      <td>17.000000</td>\n",
       "    </tr>\n",
       "  </tbody>\n",
       "</table>\n",
       "<p>8 rows × 26 columns</p>\n",
       "</div>"
      ],
      "text/plain": [
       "               Age    DailyRate  DistanceFromHome    Education  EmployeeCount  \\\n",
       "count  1470.000000  1470.000000       1470.000000  1470.000000         1470.0   \n",
       "mean     36.923810   802.485714          9.192517     2.912925            1.0   \n",
       "std       9.135373   403.509100          8.106864     1.024165            0.0   \n",
       "min      18.000000   102.000000          1.000000     1.000000            1.0   \n",
       "25%      30.000000   465.000000          2.000000     2.000000            1.0   \n",
       "50%      36.000000   802.000000          7.000000     3.000000            1.0   \n",
       "75%      43.000000  1157.000000         14.000000     4.000000            1.0   \n",
       "max      60.000000  1499.000000         29.000000     5.000000            1.0   \n",
       "\n",
       "       EmployeeNumber  EnvironmentSatisfaction   HourlyRate  JobInvolvement  \\\n",
       "count     1470.000000              1470.000000  1470.000000     1470.000000   \n",
       "mean      1024.865306                 2.721769    65.891156        2.729932   \n",
       "std        602.024335                 1.093082    20.329428        0.711561   \n",
       "min          1.000000                 1.000000    30.000000        1.000000   \n",
       "25%        491.250000                 2.000000    48.000000        2.000000   \n",
       "50%       1020.500000                 3.000000    66.000000        3.000000   \n",
       "75%       1555.750000                 4.000000    83.750000        3.000000   \n",
       "max       2068.000000                 4.000000   100.000000        4.000000   \n",
       "\n",
       "          JobLevel  ...  RelationshipSatisfaction  StandardHours  \\\n",
       "count  1470.000000  ...               1470.000000         1470.0   \n",
       "mean      2.063946  ...                  2.712245           80.0   \n",
       "std       1.106940  ...                  1.081209            0.0   \n",
       "min       1.000000  ...                  1.000000           80.0   \n",
       "25%       1.000000  ...                  2.000000           80.0   \n",
       "50%       2.000000  ...                  3.000000           80.0   \n",
       "75%       3.000000  ...                  4.000000           80.0   \n",
       "max       5.000000  ...                  4.000000           80.0   \n",
       "\n",
       "       StockOptionLevel  TotalWorkingYears  TrainingTimesLastYear  \\\n",
       "count       1470.000000        1470.000000            1470.000000   \n",
       "mean           0.793878          11.279592               2.799320   \n",
       "std            0.852077           7.780782               1.289271   \n",
       "min            0.000000           0.000000               0.000000   \n",
       "25%            0.000000           6.000000               2.000000   \n",
       "50%            1.000000          10.000000               3.000000   \n",
       "75%            1.000000          15.000000               3.000000   \n",
       "max            3.000000          40.000000               6.000000   \n",
       "\n",
       "       WorkLifeBalance  YearsAtCompany  YearsInCurrentRole  \\\n",
       "count      1470.000000     1470.000000         1470.000000   \n",
       "mean          2.761224        7.008163            4.229252   \n",
       "std           0.706476        6.126525            3.623137   \n",
       "min           1.000000        0.000000            0.000000   \n",
       "25%           2.000000        3.000000            2.000000   \n",
       "50%           3.000000        5.000000            3.000000   \n",
       "75%           3.000000        9.000000            7.000000   \n",
       "max           4.000000       40.000000           18.000000   \n",
       "\n",
       "       YearsSinceLastPromotion  YearsWithCurrManager  \n",
       "count              1470.000000           1470.000000  \n",
       "mean                  2.187755              4.123129  \n",
       "std                   3.222430              3.568136  \n",
       "min                   0.000000              0.000000  \n",
       "25%                   0.000000              2.000000  \n",
       "50%                   1.000000              3.000000  \n",
       "75%                   3.000000              7.000000  \n",
       "max                  15.000000             17.000000  \n",
       "\n",
       "[8 rows x 26 columns]"
      ]
     },
     "execution_count": 7,
     "metadata": {},
     "output_type": "execute_result"
    }
   ],
   "source": [
    "hr_data.describe()"
   ]
  },
  {
   "cell_type": "code",
   "execution_count": 8,
   "id": "ad44cfae-250d-4a1e-8487-581ffe7d79b7",
   "metadata": {
    "scrolled": true
   },
   "outputs": [
    {
     "data": {
      "text/plain": [
       "Index(['Age', 'Attrition', 'BusinessTravel', 'DailyRate', 'Department',\n",
       "       'DistanceFromHome', 'Education', 'EducationField', 'EmployeeCount',\n",
       "       'EmployeeNumber', 'EnvironmentSatisfaction', 'Gender', 'HourlyRate',\n",
       "       'JobInvolvement', 'JobLevel', 'JobRole', 'JobSatisfaction',\n",
       "       'MaritalStatus', 'MonthlyIncome', 'MonthlyRate', 'NumCompaniesWorked',\n",
       "       'Over18', 'OverTime', 'PercentSalaryHike', 'PerformanceRating',\n",
       "       'RelationshipSatisfaction', 'StandardHours', 'StockOptionLevel',\n",
       "       'TotalWorkingYears', 'TrainingTimesLastYear', 'WorkLifeBalance',\n",
       "       'YearsAtCompany', 'YearsInCurrentRole', 'YearsSinceLastPromotion',\n",
       "       'YearsWithCurrManager'],\n",
       "      dtype='object')"
      ]
     },
     "execution_count": 8,
     "metadata": {},
     "output_type": "execute_result"
    }
   ],
   "source": [
    "hr_data.columns"
   ]
  },
  {
   "cell_type": "markdown",
   "id": "d5be701f-163e-4eeb-8062-7b753ed17704",
   "metadata": {},
   "source": [
    "# Dataset Overview\n",
    " - Shape: (1470, 35) → 1470 employees × 35 features\n",
    "\n",
    "# Variables:\n",
    "\n",
    " - Numerical (26): Age, DailyRate, DistanceFromHome, Education, HourlyRate, MonthlyIncome, TotalWorkingYears, YearsAtCompany, etc.\n",
    "\n",
    " - Categorical (9): Attrition, BusinessTravel, Department, EducationField, Gender, JobRole, MaritalStatus, Over18, OverTime"
   ]
  },
  {
   "cell_type": "markdown",
   "id": "6c2418fc-54e6-4c98-ac57-de91a6ecf3bd",
   "metadata": {},
   "source": [
    "## Data Cleaning"
   ]
  },
  {
   "cell_type": "code",
   "execution_count": 9,
   "id": "0ca9aa6b-9cad-4564-b7cc-1329e540c439",
   "metadata": {},
   "outputs": [
    {
     "name": "stdout",
     "output_type": "stream",
     "text": [
      "The number of total missing values are: 0\n"
     ]
    }
   ],
   "source": [
    "total_missing_values = hr_data.isnull().sum().sum()\n",
    "print(f\"The number of total missing values are: {total_missing_values}\")"
   ]
  },
  {
   "cell_type": "code",
   "execution_count": 10,
   "id": "09e3467c-bf7e-43f9-9106-e00c301c194d",
   "metadata": {},
   "outputs": [],
   "source": [
    "#Cleaning categorical values (Yes/No to 1/0)."
   ]
  },
  {
   "cell_type": "code",
   "execution_count": 11,
   "id": "80b82314-3579-41fb-b274-05383eb70f39",
   "metadata": {},
   "outputs": [],
   "source": [
    "hr_data[\"Attrition\"] = hr_data[\"Attrition\"].replace({\"Yes\": 1, \"No\": 0})"
   ]
  },
  {
   "cell_type": "code",
   "execution_count": 12,
   "id": "65140a26-d079-4f7d-ab38-993f0b92985b",
   "metadata": {},
   "outputs": [],
   "source": [
    "hr_data[\"OverTime\"] = hr_data[\"OverTime\"].replace({\"Yes\": 1, \"No\": 0})"
   ]
  },
  {
   "cell_type": "code",
   "execution_count": 13,
   "id": "51bbca96-b41a-4686-8ba8-2afd41354ccd",
   "metadata": {},
   "outputs": [
    {
     "data": {
      "text/plain": [
       "0"
      ]
     },
     "execution_count": 13,
     "metadata": {},
     "output_type": "execute_result"
    }
   ],
   "source": [
    "hr_data.duplicated().sum()"
   ]
  },
  {
   "cell_type": "markdown",
   "id": "feed4630-e02d-4bc0-a154-0b902b649a3c",
   "metadata": {},
   "source": [
    "## Exploratory Data Analysis (EDA): General Overview"
   ]
  },
  {
   "cell_type": "code",
   "execution_count": 14,
   "id": "73cb9e75-5bce-4c0a-981b-68e27ac2b24d",
   "metadata": {},
   "outputs": [
    {
     "name": "stdout",
     "output_type": "stream",
     "text": [
      "Department\n",
      "Human Resources            63\n",
      "Research & Development    961\n",
      "Sales                     446\n",
      "Name: EmployeeNumber, dtype: int64\n"
     ]
    }
   ],
   "source": [
    "\n",
    "employees_by_department = hr_data.groupby(\"Department\")[\"EmployeeNumber\"].count()\n",
    "print(employees_by_department)"
   ]
  },
  {
   "cell_type": "code",
   "execution_count": 15,
   "id": "95b3935c-c7d6-4a95-bccd-211dbfec1ff6",
   "metadata": {},
   "outputs": [
    {
     "name": "stdout",
     "output_type": "stream",
     "text": [
      "Age                37.0\n",
      "MonthlyIncome    6503.0\n",
      "dtype: float64\n"
     ]
    }
   ],
   "source": [
    "average_age_and_salary = hr_data[[\"Age\", \"MonthlyIncome\"]].mean().round()\n",
    "print(average_age_and_salary)"
   ]
  },
  {
   "cell_type": "code",
   "execution_count": 16,
   "id": "133af480-4111-4f19-b8df-dce8b37fff8a",
   "metadata": {},
   "outputs": [
    {
     "name": "stdout",
     "output_type": "stream",
     "text": [
      "Gender\n",
      "Male      882\n",
      "Female    588\n",
      "Name: count, dtype: int64\n"
     ]
    }
   ],
   "source": [
    "#Gender Distribution\n",
    "gender_distribution = hr_data[\"Gender\"].value_counts()\n",
    "print(gender_distribution)"
   ]
  },
  {
   "cell_type": "code",
   "execution_count": 17,
   "id": "266a861b-7a4a-43fb-acea-f33b9565b2bd",
   "metadata": {},
   "outputs": [
    {
     "name": "stdout",
     "output_type": "stream",
     "text": [
      "Department              Gender\n",
      "Human Resources         Male       43\n",
      "                        Female     20\n",
      "Research & Development  Male      582\n",
      "                        Female    379\n",
      "Sales                   Male      257\n",
      "                        Female    189\n",
      "Name: count, dtype: int64\n"
     ]
    }
   ],
   "source": [
    "gender_by_department = hr_data.groupby(\"Department\")[\"Gender\"].value_counts()\n",
    "print(gender_by_department)"
   ]
  },
  {
   "cell_type": "code",
   "execution_count": 18,
   "id": "f94466db-8ba0-421e-8973-d29503bc2e22",
   "metadata": {},
   "outputs": [
    {
     "data": {
      "image/png": "[encoded data removed]",
      "text/plain": [
       "<Figure size 1500x700 with 1 Axes>"
      ]
     },
     "metadata": {},
     "output_type": "display_data"
    }
   ],
   "source": [
    "gender_by_department.plot(\n",
    "    kind=\"bar\", \n",
    "    figsize=(15,7), \n",
    "    title=\"Gender Distribution by Department\"\n",
    ")\n",
    "plt.ylabel(\"Number of Employees\")\n",
    "plt.xlabel(\"Department\")\n",
    "plt.grid(True)\n",
    "plt.tight_layout()\n",
    "plt.show()"
   ]
  },
  {
   "cell_type": "markdown",
   "id": "9e435c14-4bcb-48fa-9160-3b6b45fdf915",
   "metadata": {},
   "source": [
    "## Attrition Analysis (Main Part)"
   ]
  },
  {
   "cell_type": "code",
   "execution_count": 19,
   "id": "66c3e2c6-8fe6-45d8-88e6-f7504ec1b67e",
   "metadata": {},
   "outputs": [
    {
     "name": "stdout",
     "output_type": "stream",
     "text": [
      "Attrition\n",
      "0    1233\n",
      "1     237\n",
      "Name: count, dtype: int64\n"
     ]
    }
   ],
   "source": [
    "# Calculate attrition\n",
    "attrition_caunts = hr_data[\"Attrition\"].value_counts()\n",
    "print(attrition_caunts)"
   ]
  },
  {
   "cell_type": "code",
   "execution_count": 20,
   "id": "e8cebe9e-9f2f-4162-89c7-d3356fbc27dc",
   "metadata": {},
   "outputs": [
    {
     "name": "stdout",
     "output_type": "stream",
     "text": [
      "16.122448979591837\n"
     ]
    }
   ],
   "source": [
    "#Global attrition percentage\n",
    "attrition_percentage = (hr_data[\"Attrition\"].sum() / len(hr_data)) * 100\n",
    "print(attrition_percentage)"
   ]
  },
  {
   "cell_type": "code",
   "execution_count": 33,
   "id": "45a3e5bc-2555-4be9-8db9-aea0668f9ace",
   "metadata": {
    "scrolled": true
   },
   "outputs": [
    {
     "name": "stdout",
     "output_type": "stream",
     "text": [
      "Department\n",
      "Human Resources           19\n",
      "Research & Development    13\n",
      "Sales                     20\n",
      "Name: Attrition, dtype: int32\n"
     ]
    }
   ],
   "source": [
    "#Breakdown by department\n",
    "dept_breakdown = (hr_data.groupby(\"Department\")[\"Attrition\"].mean() * 100).astype(int).round()\n",
    "print(dept_breakdown)"
   ]
  },
  {
   "cell_type": "code",
   "execution_count": 34,
   "id": "82f53d8c-a34b-4731-bf9f-acbfa2d4505f",
   "metadata": {},
   "outputs": [
    {
     "data": {
      "image/png": "[encoded data removed]",
      "text/plain": [
       "<Figure size 600x600 with 1 Axes>"
      ]
     },
     "metadata": {},
     "output_type": "display_data"
    }
   ],
   "source": [
    "plt.figure(figsize=(6,6))\n",
    "plt.pie(\n",
    "    dept_breakdown,\n",
    "    labels=dept_breakdown.index,\n",
    "    autopct=\"%1.1f%%\",  \n",
    "    startangle=90       \n",
    ")\n",
    "plt.title(\"Attrition Breakdown by Department\")\n",
    "plt.show()"
   ]
  },
  {
   "cell_type": "code",
   "execution_count": 22,
   "id": "f4e40761-9844-4484-b1b7-64cf9a6e35fd",
   "metadata": {},
   "outputs": [
    {
     "name": "stdout",
     "output_type": "stream",
     "text": [
      "AgeGroup\n",
      "18-25    39.175258\n",
      "25-30    23.144105\n",
      "30-40    14.308682\n",
      "40-50      9.74212\n",
      ">50      13.294798\n",
      "Name: Attrition, dtype: object\n"
     ]
    }
   ],
   "source": [
    "#breakdown by age \n",
    "bins = [18,25,30,40, 50,hr_data[\"Age\"].max()+1]\n",
    "labels =[\"18-25\", \"25-30\", \"30-40\",\"40-50\", \">50\"]\n",
    "hr_data[\"AgeGroup\"] = pd.cut(hr_data[\"Age\"], bins = bins, labels = labels, right = False)\n",
    "age_breakdown = hr_data.groupby(\"AgeGroup\", observed = True)[\"Attrition\"].mean() * 100\n",
    "print(age_breakdown)"
   ]
  },
  {
   "cell_type": "code",
   "execution_count": 40,
   "id": "a37cfc1b-33f0-4ae1-bffa-b4928c2b010a",
   "metadata": {},
   "outputs": [
    {
     "data": {
      "image/png": "[encoded data removed]",
      "text/plain": [
       "<Figure size 800x500 with 1 Axes>"
      ]
     },
     "metadata": {},
     "output_type": "display_data"
    }
   ],
   "source": [
    "plt.figure(figsize=(8,5))\n",
    "plt.bar(age_breakdown.index, age_breakdown)\n",
    "plt.title(\"Attrition Breakdown by Age Group\")\n",
    "plt.xlabel(\"Age Group\")\n",
    "plt.ylabel(\"Attrition Rate (%)\")\n",
    "plt.show()"
   ]
  },
  {
   "cell_type": "code",
   "execution_count": 23,
   "id": "5e7bc3ea-6b6a-4821-872a-f271bd53bdd0",
   "metadata": {},
   "outputs": [
    {
     "data": {
      "text/plain": [
       "SalaryLevel\n",
       "0-5k       749\n",
       "5k-10k     440\n",
       "10k-15k    148\n",
       "15k-20k    133\n",
       "Name: count, dtype: int64"
      ]
     },
     "execution_count": 23,
     "metadata": {},
     "output_type": "execute_result"
    }
   ],
   "source": [
    "#breakdown by salary level\n",
    "bins = [0, 5000, 10000, 15000, 20000]\n",
    "labels = [\"0-5k\", \"5k-10k\", \"10k-15k\", \"15k-20k\"]\n",
    "hr_data[\"SalaryLevel\"] = pd.cut(hr_data[\"MonthlyIncome\"], bins=bins, labels=labels, right=False)\n",
    "hr_data[\"SalaryLevel\"].value_counts()\n"
   ]
  },
  {
   "cell_type": "code",
   "execution_count": 24,
   "id": "08f11f48-b3e8-49dd-bd8b-8623dc221132",
   "metadata": {},
   "outputs": [
    {
     "name": "stdout",
     "output_type": "stream",
     "text": [
      "AgeGroup  SalaryLevel\n",
      "18-25     0-5k           39.175258\n",
      "25-30     0-5k           25.142857\n",
      "          5k-10k         17.647059\n",
      "          10k-15k              0.0\n",
      "          15k-20k              0.0\n",
      "30-40     0-5k           18.589744\n",
      "          5k-10k          9.486166\n",
      "          10k-15k        14.583333\n",
      "          15k-20k              0.0\n",
      "40-50     0-5k           11.290323\n",
      "          5k-10k         11.428571\n",
      "          10k-15k             12.0\n",
      "          15k-20k         2.857143\n",
      ">50       0-5k            21.95122\n",
      "          5k-10k         12.903226\n",
      "          10k-15k        14.583333\n",
      "          15k-20k         5.660377\n",
      "Name: Attrition, dtype: object\n"
     ]
    }
   ],
   "source": [
    "#group by age and salary level\n",
    "attrition_by_age_salary = (hr_data.groupby([\"AgeGroup\", \"SalaryLevel\"], observed=True)[\"Attrition\"].mean() * 100).round(1)\n",
    "print(attrition_by_age_salary)"
   ]
  },
  {
   "cell_type": "markdown",
   "id": "41d268ca-bb76-4b8d-bd26-91a6931e68a5",
   "metadata": {},
   "source": [
    "# Key Findings: Attrition Analysis\n",
    "\n",
    "## Overall Attrition\n",
    "- Total employees: **1470**\n",
    "- Employees who left: **237**\n",
    "- Employees who stayed: **1233**\n",
    "- **Global Attrition Rate:** **16.1%**\n",
    "\n",
    "## Attrition by Department\n",
    "- **Human Resources:** 19.0%\n",
    "- **Research & Development:** 13.8%\n",
    "- **Sales:** 20.6%  \n",
    "Highest attrition in **Sales**, lowest in **R&D**.\n",
    "\n",
    "## Attrition by Age Group\n",
    "- **18–25:** 39.2% (highest risk group)\n",
    "- **25–30:** 23.1%\n",
    "- **30–40:** 14.3%\n",
    "- **40–50:** 9.7%\n",
    "- **>50:** 13.3%  \n",
    "Younger employees (especially **18–25**) show the highest attrition.\n",
    "\n",
    "## Attrition by Salary Level\n",
    "- **0–5k:** 749 employees (largest group)\n",
    "- **5k–10k:** 440 employees\n",
    "- **10k–15k:** 148 employees\n",
    "- **15k–20k:** 133 employees  \n",
    " Majority of employees fall into **0–5k** salary range.\n",
    "\n",
    "## Attrition by Age and Salary Level (combined)\n",
    "- **Young & low salary (18–25, 0–5k):** ~39% attrition (very high risk).\n",
    "- **25–30, 0–5k:** ~25% attrition, decreases with higher salaries.\n",
    "- **30–40:** Attrition lower (9–18%), slightly higher in mid-salaries.\n",
    "- **40–50:** Lowest attrition overall (2.8–12%).\n",
    "- **>50:** Moderate attrition (5–22%), higher in lower salary groups.\n",
    "\n",
    "## Insights\n",
    "1. **Young employees (<30)**, especially those with **lower salaries**, are most likely to leave.  \n",
    "2. **Sales department** has the highest attrition compared to other departments.  \n",
    "3. Attrition **decreases with age** and is generally lower among employees over 40.  \n",
    "4. Salary growth beyond **10k+** is associated with **much lower attrition**.\n"
   ]
  },
  {
   "cell_type": "markdown",
   "id": "82395c0a-9519-48ab-9503-c8a0b585422a",
   "metadata": {},
   "source": [
    "## Correlation"
   ]
  },
  {
   "cell_type": "code",
   "execution_count": 25,
   "id": "93762472-695d-47dc-842d-7020c2922f7a",
   "metadata": {},
   "outputs": [
    {
     "name": "stdout",
     "output_type": "stream",
     "text": [
      "                 MonthlyIncome  YearsAtCompany  JobSatisfaction\n",
      "MonthlyIncome         1.000000        0.514285        -0.007157\n",
      "YearsAtCompany        0.514285        1.000000        -0.003803\n",
      "JobSatisfaction      -0.007157       -0.003803         1.000000\n"
     ]
    }
   ],
   "source": [
    "# Select only the columns you want in the correlation\n",
    "corr_matrix = hr_data[[\"MonthlyIncome\", \"YearsAtCompany\", \"JobSatisfaction\"]].corr()\n",
    "print(corr_matrix)\n"
   ]
  },
  {
   "cell_type": "markdown",
   "id": "8bfbfe2d-56f1-4127-b6a9-1e5a0312051a",
   "metadata": {},
   "source": [
    "## Key Findings from Correlation Analysis\n",
    "\n",
    "- **Monthly Income ↔ Years at Company**:  \n",
    "  Moderate positive correlation (**0.51**) – employees who stay longer tend to earn higher salaries.  \n",
    "\n",
    "- **Monthly Income ↔ Job Satisfaction**:  \n",
    "  Very weak negative correlation (**-0.01**) – salary has almost no relationship with job satisfaction.  \n",
    "\n",
    "- **Years at Company ↔ Job Satisfaction**:  \n",
    "  Very weak negative correlation (**-0.004**) – tenure does not meaningfully affect job satisfaction.  \n"
   ]
  },
  {
   "cell_type": "code",
   "execution_count": 26,
   "id": "e74cf4d7-d87a-45ac-8102-d296d3db33a2",
   "metadata": {},
   "outputs": [
    {
     "data": {
      "image/png": "[encoded data removed]",
      "text/plain": [
       "<Figure size 600x400 with 1 Axes>"
      ]
     },
     "metadata": {},
     "output_type": "display_data"
    }
   ],
   "source": [
    "# Attrition vs YearsAtCompany (line chart)\n",
    "plt.figure(figsize=(6,4))\n",
    "attrition_years = hr_data.groupby(\"YearsAtCompany\")[\"Attrition\"].value_counts(normalize=True).unstack().fillna(0)\n",
    "attrition_years[1].plot(kind=\"line\", marker=\"o\")\n",
    "plt.title(\"Attrition vs Years at Company\")\n",
    "plt.xlabel(\"Years at Company\")\n",
    "plt.ylabel(\"Attrition Rate\")\n",
    "plt.show()"
   ]
  },
  {
   "cell_type": "code",
   "execution_count": 46,
   "id": "66db1caf-02fe-4dd1-9ccb-55c18d59fb94",
   "metadata": {},
   "outputs": [
    {
     "name": "stdout",
     "output_type": "stream",
     "text": [
      "JobRole\n",
      "Healthcare Representative     7528\n",
      "Human Resources               4235\n",
      "Laboratory Technician         3237\n",
      "Manager                      17181\n",
      "Manufacturing Director        7295\n",
      "Research Director            16033\n",
      "Research Scientist            3239\n",
      "Sales Executive               6924\n",
      "Sales Representative          2626\n",
      "Name: MonthlyIncome, dtype: int32\n"
     ]
    }
   ],
   "source": [
    "#Average Salary By Job Role\n",
    "avg_salary_by_jobrole = hr_data.groupby(\"JobRole\", observed=True)[\"MonthlyIncome\"].mean().astype(int).round()\n",
    "print(avg_salary_by_jobrole)"
   ]
  },
  {
   "cell_type": "code",
   "execution_count": 49,
   "id": "2dc35f8f-3b4c-4491-af43-213264a42ca1",
   "metadata": {},
   "outputs": [
    {
     "data": {
      "image/png": "[encoded data removed]",
      "text/plain": [
       "<Figure size 1000x500 with 1 Axes>"
      ]
     },
     "metadata": {},
     "output_type": "display_data"
    }
   ],
   "source": [
    "\n",
    "plt.figure(figsize=(10,5))\n",
    "plt.bar(avg_salary_by_jobrole.index, avg_salary_by_jobrole)\n",
    "plt.title(\"Average Salary by Job Role\")\n",
    "plt.xlabel(\"Job Role\")\n",
    "plt.ylabel(\"Monthly Income\")\n",
    "plt.xticks(rotation=45) \n",
    "plt.tight_layout()       \n",
    "plt.show()"
   ]
  }
 ],
 "metadata": {
  "kernelspec": {
   "display_name": "Python [conda env:base] *",
   "language": "python",
   "name": "conda-base-py"
  },
  "language_info": {
   "codemirror_mode": {
    "name": "ipython",
    "version": 3
   },
   "file_extension": ".py",
   "mimetype": "text/x-python",
   "name": "python",
   "nbconvert_exporter": "python",
   "pygments_lexer": "ipython3",
   "version": "3.12.7"
  }
 },
 "nbformat": 4,
 "nbformat_minor": 5
}
